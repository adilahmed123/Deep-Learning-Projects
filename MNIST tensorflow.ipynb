{
  "nbformat": 4,
  "nbformat_minor": 0,
  "metadata": {
    "colab": {
      "name": "Untitled3.ipynb",
      "provenance": [],
      "collapsed_sections": []
    },
    "kernelspec": {
      "name": "python3",
      "display_name": "Python 3"
    },
    "language_info": {
      "name": "python"
    }
  },
  "cells": [
    {
      "cell_type": "code",
      "execution_count": 6,
      "metadata": {
        "colab": {
          "base_uri": "https://localhost:8080/"
        },
        "id": "GJPb1h087rj5",
        "outputId": "374e885c-0a11-4572-dc40-6b009631ac85"
      },
      "outputs": [
        {
          "output_type": "stream",
          "name": "stdout",
          "text": [
            "Requirement already satisfied: tensorflow==1.14 in /usr/local/lib/python3.7/dist-packages (1.14.0)\n",
            "Requirement already satisfied: protobuf>=3.6.1 in /usr/local/lib/python3.7/dist-packages (from tensorflow==1.14) (3.17.3)\n",
            "Requirement already satisfied: grpcio>=1.8.6 in /usr/local/lib/python3.7/dist-packages (from tensorflow==1.14) (1.46.1)\n",
            "Requirement already satisfied: google-pasta>=0.1.6 in /usr/local/lib/python3.7/dist-packages (from tensorflow==1.14) (0.2.0)\n",
            "Requirement already satisfied: keras-applications>=1.0.6 in /usr/local/lib/python3.7/dist-packages (from tensorflow==1.14) (1.0.8)\n",
            "Requirement already satisfied: tensorflow-estimator<1.15.0rc0,>=1.14.0rc0 in /usr/local/lib/python3.7/dist-packages (from tensorflow==1.14) (1.14.0)\n",
            "Requirement already satisfied: six>=1.10.0 in /usr/local/lib/python3.7/dist-packages (from tensorflow==1.14) (1.15.0)\n",
            "Requirement already satisfied: gast>=0.2.0 in /usr/local/lib/python3.7/dist-packages (from tensorflow==1.14) (0.5.3)\n",
            "Requirement already satisfied: wheel>=0.26 in /usr/local/lib/python3.7/dist-packages (from tensorflow==1.14) (0.37.1)\n",
            "Requirement already satisfied: astor>=0.6.0 in /usr/local/lib/python3.7/dist-packages (from tensorflow==1.14) (0.8.1)\n",
            "Requirement already satisfied: tensorboard<1.15.0,>=1.14.0 in /usr/local/lib/python3.7/dist-packages (from tensorflow==1.14) (1.14.0)\n",
            "Requirement already satisfied: keras-preprocessing>=1.0.5 in /usr/local/lib/python3.7/dist-packages (from tensorflow==1.14) (1.1.2)\n",
            "Requirement already satisfied: wrapt>=1.11.1 in /usr/local/lib/python3.7/dist-packages (from tensorflow==1.14) (1.14.1)\n",
            "Requirement already satisfied: termcolor>=1.1.0 in /usr/local/lib/python3.7/dist-packages (from tensorflow==1.14) (1.1.0)\n",
            "Requirement already satisfied: absl-py>=0.7.0 in /usr/local/lib/python3.7/dist-packages (from tensorflow==1.14) (1.0.0)\n",
            "Requirement already satisfied: numpy<2.0,>=1.14.5 in /usr/local/lib/python3.7/dist-packages (from tensorflow==1.14) (1.21.6)\n",
            "Requirement already satisfied: h5py in /usr/local/lib/python3.7/dist-packages (from keras-applications>=1.0.6->tensorflow==1.14) (3.1.0)\n",
            "Requirement already satisfied: werkzeug>=0.11.15 in /usr/local/lib/python3.7/dist-packages (from tensorboard<1.15.0,>=1.14.0->tensorflow==1.14) (1.0.1)\n",
            "Requirement already satisfied: setuptools>=41.0.0 in /usr/local/lib/python3.7/dist-packages (from tensorboard<1.15.0,>=1.14.0->tensorflow==1.14) (57.4.0)\n",
            "Requirement already satisfied: markdown>=2.6.8 in /usr/local/lib/python3.7/dist-packages (from tensorboard<1.15.0,>=1.14.0->tensorflow==1.14) (3.3.7)\n",
            "Requirement already satisfied: importlib-metadata>=4.4 in /usr/local/lib/python3.7/dist-packages (from markdown>=2.6.8->tensorboard<1.15.0,>=1.14.0->tensorflow==1.14) (4.11.3)\n",
            "Requirement already satisfied: typing-extensions>=3.6.4 in /usr/local/lib/python3.7/dist-packages (from importlib-metadata>=4.4->markdown>=2.6.8->tensorboard<1.15.0,>=1.14.0->tensorflow==1.14) (4.2.0)\n",
            "Requirement already satisfied: zipp>=0.5 in /usr/local/lib/python3.7/dist-packages (from importlib-metadata>=4.4->markdown>=2.6.8->tensorboard<1.15.0,>=1.14.0->tensorflow==1.14) (3.8.0)\n",
            "Requirement already satisfied: cached-property in /usr/local/lib/python3.7/dist-packages (from h5py->keras-applications>=1.0.6->tensorflow==1.14) (1.5.2)\n"
          ]
        }
      ],
      "source": [
        "!pip install tensorflow==1.14"
      ]
    },
    {
      "cell_type": "code",
      "source": [
        "from __future__ import print_function"
      ],
      "metadata": {
        "id": "_VlNO2_w9SQH"
      },
      "execution_count": null,
      "outputs": []
    },
    {
      "cell_type": "code",
      "source": [
        "from tensorflow.examples.tutorials.mnist import input_data\n",
        "mnist = input_data.read_data_sets(\"/tmp/data/\",one_hot = True)\n",
        "import tensorflow as tf"
      ],
      "metadata": {
        "colab": {
          "base_uri": "https://localhost:8080/"
        },
        "id": "HCu89QTL9SS0",
        "outputId": "2abbcb1e-3a00-4ff8-9d8f-914849e4325d"
      },
      "execution_count": 5,
      "outputs": [
        {
          "output_type": "stream",
          "name": "stdout",
          "text": [
            "Extracting /tmp/data/train-images-idx3-ubyte.gz\n",
            "Extracting /tmp/data/train-labels-idx1-ubyte.gz\n",
            "Extracting /tmp/data/t10k-images-idx3-ubyte.gz\n",
            "Extracting /tmp/data/t10k-labels-idx1-ubyte.gz\n"
          ]
        }
      ]
    },
    {
      "cell_type": "code",
      "source": [
        "learning_rate = 0.1\n",
        "num_steps = 500\n",
        "batch_size = 128\n",
        "display_step = 100"
      ],
      "metadata": {
        "id": "JFZ17FKV9SVN"
      },
      "execution_count": 23,
      "outputs": []
    },
    {
      "cell_type": "code",
      "source": [
        "n_hidden_1 = 256\n",
        "n_hidden_2 = 256\n",
        "num_inputs = 784\n",
        "num_class = 10"
      ],
      "metadata": {
        "id": "dr-h6u3u9SX2"
      },
      "execution_count": 24,
      "outputs": []
    },
    {
      "cell_type": "code",
      "source": [
        "X = tf.placeholder(\"float\",[None, num_inputs])\n",
        "Y = tf.placeholder(\"float\",[None, num_class])\n"
      ],
      "metadata": {
        "id": "vErAcLER9SaU"
      },
      "execution_count": 25,
      "outputs": []
    },
    {
      "cell_type": "code",
      "source": [
        "weights = { 'h1' : tf.Variable(tf.random_normal([num_inputs,n_hidden_1])),\n",
        "           'h2' : tf.Variable(tf.random_normal([n_hidden_1,n_hidden_2])),\n",
        "           'out' : tf.Variable(tf.random_normal([n_hidden_2,num_class]))\n",
        "}\n",
        "\n",
        "biases = { 'b1' : tf.Variable(tf.random_normal([n_hidden_1])),\n",
        "           'b2' : tf.Variable(tf.random_normal([n_hidden_2])),\n",
        "           'out' : tf.Variable(tf.random_normal([num_class]))\n",
        "    \n",
        "}"
      ],
      "metadata": {
        "id": "3sO3zgzC9ScF"
      },
      "execution_count": 29,
      "outputs": []
    },
    {
      "cell_type": "code",
      "source": [
        "def neural_net(x):\n",
        "  layer_1 = tf.add(tf.matmul(x,weights['h1']),biases['b1'])\n",
        "  layer_2 = tf.add(tf.matmul(layer_1,weights['h2']),biases['b2'])\n",
        "  out_layer = tf.matmul(layer_2,weights['out']) + biases['out']\n",
        "  return out_layer"
      ],
      "metadata": {
        "id": "JfpiiPWM9Sen"
      },
      "execution_count": 30,
      "outputs": []
    },
    {
      "cell_type": "code",
      "source": [
        "logits = neural_net(X)\n",
        "  \n",
        "loss_op = tf.reduce_mean(tf.nn.softmax_cross_entropy_with_logits_v2(logits = logits, labels = Y))\n",
        "optimizer = tf.train.AdamOptimizer(learning_rate = learning_rate)\n",
        "train_op = optimizer.minimize(loss_op)\n",
        "\n",
        "\n",
        "correct_pred = tf.equal(tf.argmax(logits,1),tf.argmax(Y,1))\n",
        "accuracy = tf.reduce_mean(tf.cast(correct_pred,tf.float32))\n",
        "init = tf.global_variables_initializer()"
      ],
      "metadata": {
        "id": "bn2Cap389Sg_"
      },
      "execution_count": 31,
      "outputs": []
    },
    {
      "cell_type": "code",
      "source": [
        "with tf.Session() as sees:\n",
        "  sees.run(init)\n",
        "\n",
        "  for step in range (1, num_steps + 1):\n",
        "    batch_x,batch_y = mnist.train.next_batch(batch_size)\n",
        "\n",
        "    sees.run(train_op,feed_dict = { X : batch_x, Y : batch_y})\n",
        "    if step%display_step == 0 or steps == 1:\n",
        "      loss,acc = sees.run([loss_op,accuracy],feed_dict = {X : batch_x , Y : batch_y})\n",
        "\n",
        "      print(\"Step\" + str(step) + \", minibatch loss = \" +  \n",
        "            \"{:.4f}\".format(loss) + \",training accuracy = \" + \n",
        "            \"{:.3f}\".format(acc))\n",
        "\n",
        "      print(\"optmization Finished \")\n",
        "\n",
        "      print(\"Testing Accuracy:\", \n",
        "             sees.run(accuracy, feed_dict = { X : mnist.test.images, Y : mnist.test.labels }))"
      ],
      "metadata": {
        "colab": {
          "base_uri": "https://localhost:8080/"
        },
        "id": "fLGRfix19SjV",
        "outputId": "3f5005f4-500d-4267-8c82-c1d37bc71489"
      },
      "execution_count": 49,
      "outputs": [
        {
          "output_type": "stream",
          "name": "stdout",
          "text": [
            "Step100, minibatch loss = 460.0545,training accuracy = 0.820\n",
            "optmization Finished \n",
            "Testing Accuracy: 0.8456\n",
            "Step200, minibatch loss = 43.2972,training accuracy = 0.914\n",
            "optmization Finished \n",
            "Testing Accuracy: 0.8718\n",
            "Step300, minibatch loss = 22.8812,training accuracy = 0.906\n",
            "optmization Finished \n",
            "Testing Accuracy: 0.8736\n",
            "Step400, minibatch loss = 20.1429,training accuracy = 0.906\n",
            "optmization Finished \n",
            "Testing Accuracy: 0.8505\n",
            "Step500, minibatch loss = 47.2339,training accuracy = 0.867\n",
            "optmization Finished \n",
            "Testing Accuracy: 0.8519\n"
          ]
        }
      ]
    },
    {
      "cell_type": "code",
      "source": [
        ""
      ],
      "metadata": {
        "id": "A9VPZzv59Sma"
      },
      "execution_count": null,
      "outputs": []
    },
    {
      "cell_type": "code",
      "source": [
        ""
      ],
      "metadata": {
        "id": "OGHoj_UO9SpD"
      },
      "execution_count": null,
      "outputs": []
    },
    {
      "cell_type": "code",
      "source": [
        ""
      ],
      "metadata": {
        "id": "QuOohxIy9Sqs"
      },
      "execution_count": null,
      "outputs": []
    },
    {
      "cell_type": "code",
      "source": [
        ""
      ],
      "metadata": {
        "id": "ATOpj6NH9StY"
      },
      "execution_count": null,
      "outputs": []
    },
    {
      "cell_type": "code",
      "source": [
        ""
      ],
      "metadata": {
        "id": "TIRGDJO_9SvS"
      },
      "execution_count": null,
      "outputs": []
    },
    {
      "cell_type": "code",
      "source": [
        ""
      ],
      "metadata": {
        "id": "201IX8Pb9Sx4"
      },
      "execution_count": null,
      "outputs": []
    },
    {
      "cell_type": "code",
      "source": [
        ""
      ],
      "metadata": {
        "id": "mraU0n5K9S0C"
      },
      "execution_count": null,
      "outputs": []
    },
    {
      "cell_type": "code",
      "source": [
        ""
      ],
      "metadata": {
        "id": "mmNL4ncH9S2Y"
      },
      "execution_count": null,
      "outputs": []
    },
    {
      "cell_type": "code",
      "source": [
        ""
      ],
      "metadata": {
        "id": "40fbGshg9S46"
      },
      "execution_count": null,
      "outputs": []
    },
    {
      "cell_type": "code",
      "source": [
        ""
      ],
      "metadata": {
        "id": "8hctbQ6Q9S7S"
      },
      "execution_count": null,
      "outputs": []
    },
    {
      "cell_type": "code",
      "source": [
        ""
      ],
      "metadata": {
        "id": "3Z7cTH8d9S-F"
      },
      "execution_count": null,
      "outputs": []
    },
    {
      "cell_type": "code",
      "source": [
        ""
      ],
      "metadata": {
        "id": "Cc5O0sF49TAb"
      },
      "execution_count": null,
      "outputs": []
    }
  ]
}